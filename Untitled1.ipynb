{
  "nbformat": 4,
  "nbformat_minor": 0,
  "metadata": {
    "colab": {
      "provenance": [],
      "authorship_tag": "ABX9TyNCypcALBFQ1J4EWOANtmxc",
      "include_colab_link": true
    },
    "kernelspec": {
      "name": "python3",
      "display_name": "Python 3"
    },
    "language_info": {
      "name": "python"
    }
  },
  "cells": [
    {
      "cell_type": "markdown",
      "metadata": {
        "id": "view-in-github",
        "colab_type": "text"
      },
      "source": [
        "<a href=\"https://colab.research.google.com/github/ShahmeerHamza/test/blob/main/Untitled1.ipynb\" target=\"_parent\"><img src=\"https://colab.research.google.com/assets/colab-badge.svg\" alt=\"Open In Colab\"/></a>"
      ]
    },
    {
      "cell_type": "markdown",
      "source": [],
      "metadata": {
        "id": "glH4IzvP1mlE"
      }
    },
    {
      "cell_type": "code",
      "execution_count": 2,
      "metadata": {
        "colab": {
          "base_uri": "https://localhost:8080/"
        },
        "id": "jFPk8Mg71jOy",
        "outputId": "4019c975-6adf-40f4-bbcf-1c84e4ddbfbe"
      },
      "outputs": [
        {
          "output_type": "stream",
          "name": "stdout",
          "text": [
            "True\n"
          ]
        }
      ],
      "source": [
        "test = 0 == False\n",
        "print(test)"
      ]
    },
    {
      "cell_type": "code",
      "source": [
        "student_name = [\"Hamza\", \"Ayan\", \"Muzamil\", \"Shoaib\", \"Hamza\", \"Ayan\"]"
      ],
      "metadata": {
        "id": "DVk7IJAb4aH2"
      },
      "execution_count": 3,
      "outputs": []
    },
    {
      "cell_type": "code",
      "source": [
        "print(student_name)"
      ],
      "metadata": {
        "colab": {
          "base_uri": "https://localhost:8080/"
        },
        "id": "JtxFqNO544BX",
        "outputId": "56cb4de3-0af3-49d5-e6ef-635d1022b54a"
      },
      "execution_count": 4,
      "outputs": [
        {
          "output_type": "stream",
          "name": "stdout",
          "text": [
            "['Hamza', 'Ayan', 'Muzamil', 'Shoaib', 'Hamza', 'Ayan']\n"
          ]
        }
      ]
    },
    {
      "cell_type": "code",
      "source": [
        "remove_duplicate = set(student_name)\n",
        "print(remove_duplicate)\n",
        "student_name = list(remove_duplicate)"
      ],
      "metadata": {
        "colab": {
          "base_uri": "https://localhost:8080/"
        },
        "id": "-c3y080Y48od",
        "outputId": "e47c506f-4afe-4ffe-b08f-8c46cd5b9648"
      },
      "execution_count": 6,
      "outputs": [
        {
          "output_type": "stream",
          "name": "stdout",
          "text": [
            "{'Shoaib', 'Ayan', 'Muzamil', 'Hamza'}\n"
          ]
        }
      ]
    },
    {
      "cell_type": "code",
      "source": [
        "print(student_name)"
      ],
      "metadata": {
        "colab": {
          "base_uri": "https://localhost:8080/"
        },
        "id": "CLDHgPZa5XDe",
        "outputId": "503689cf-b599-4e46-b4ee-94c2a0979fce"
      },
      "execution_count": 7,
      "outputs": [
        {
          "output_type": "stream",
          "name": "stdout",
          "text": [
            "['Shoaib', 'Ayan', 'Muzamil', 'Hamza']\n"
          ]
        }
      ]
    },
    {
      "cell_type": "code",
      "source": [
        "num = 2"
      ],
      "metadata": {
        "id": "e7xYu_eq6nrk"
      },
      "execution_count": 8,
      "outputs": []
    },
    {
      "cell_type": "code",
      "source": [
        "flt_num = float(num)\n",
        "print(flt_num)"
      ],
      "metadata": {
        "colab": {
          "base_uri": "https://localhost:8080/"
        },
        "id": "YuYzF--p6uOs",
        "outputId": "d98cda54-a7da-43df-fbd1-ac627ade2f1c"
      },
      "execution_count": 9,
      "outputs": [
        {
          "output_type": "stream",
          "name": "stdout",
          "text": [
            "2.0\n"
          ]
        }
      ]
    },
    {
      "cell_type": "code",
      "source": [
        "def take_input():\n",
        "  try:\n",
        "    user_input = input(\"Enter number\")\n",
        "    convert_inp = int(user_input)\n",
        "    print(convert_inp)\n",
        "  except Exception as e:\n",
        "    print(f\"{user_input} is not a valid number\")\n",
        "    take_input()"
      ],
      "metadata": {
        "id": "nH8UH4SA878F"
      },
      "execution_count": 15,
      "outputs": []
    },
    {
      "cell_type": "code",
      "source": [
        "take_input()"
      ],
      "metadata": {
        "colab": {
          "base_uri": "https://localhost:8080/"
        },
        "id": "2j7yteM3-3h1",
        "outputId": "7ec6a8d6-d180-4e0e-be6f-10b0369da775"
      },
      "execution_count": 16,
      "outputs": [
        {
          "output_type": "stream",
          "name": "stdout",
          "text": [
            "Enter numberr\n",
            "r is not a valid number\n",
            "Enter numbery\n",
            "y is not a valid number\n",
            "Enter numberi\n",
            "i is not a valid number\n",
            "Enter number3\n",
            "3\n"
          ]
        }
      ]
    }
  ]
}